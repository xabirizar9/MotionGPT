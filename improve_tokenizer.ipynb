{
 "cells": [
  {
   "cell_type": "code",
   "execution_count": 1,
   "metadata": {},
   "outputs": [],
   "source": [
    "%load_ext autoreload\n",
    "%autoreload 2\n",
    "import matplotlib.pyplot as plt\n",
    "import numpy as np\n",
    "import os\n",
    "import pandas as pd\n",
    "import torch\n",
    "\n",
    "from collections import Counter\n",
    "from tqdm.auto import tqdm\n",
    "\n",
    "# Import your data loading utilities and model\n",
    "from mGPT.data.build_data import build_data\n",
    "from mGPT.models.build_model import build_model\n",
    "from mGPT.archs.mgpt_vq import VQVae\n",
    "from mGPT.config import get_module_config\n",
    "from omegaconf import OmegaConf"
   ]
  },
  {
   "cell_type": "markdown",
   "metadata": {},
   "source": [
    "### Load configs"
   ]
  },
  {
   "cell_type": "code",
   "execution_count": 2,
   "metadata": {},
   "outputs": [],
   "source": [
    "# Load config files in the same way as parse_args()\n",
    "OmegaConf.register_new_resolver(\"eval\", eval)"
   ]
  },
  {
   "cell_type": "code",
   "execution_count": null,
   "metadata": {},
   "outputs": [
    {
     "ename": "FileNotFoundError",
     "evalue": "[Errno 2] No such file or directory: '/root/trial-week/MotionGPT/configs/parallel_branches/config_h3d_stage1.yaml'",
     "output_type": "error",
     "traceback": [
      "\u001b[0;31m---------------------------------------------------------------------------\u001b[0m",
      "\u001b[0;31mFileNotFoundError\u001b[0m                         Traceback (most recent call last)",
      "Cell \u001b[0;32mIn[3], line 3\u001b[0m\n\u001b[1;32m      1\u001b[0m cfg_assets \u001b[38;5;241m=\u001b[39m OmegaConf\u001b[38;5;241m.\u001b[39mload(\u001b[38;5;124m'\u001b[39m\u001b[38;5;124m./configs/assets.yaml\u001b[39m\u001b[38;5;124m'\u001b[39m)\n\u001b[1;32m      2\u001b[0m cfg_base \u001b[38;5;241m=\u001b[39m OmegaConf\u001b[38;5;241m.\u001b[39mload(os\u001b[38;5;241m.\u001b[39mpath\u001b[38;5;241m.\u001b[39mjoin(cfg_assets\u001b[38;5;241m.\u001b[39mCONFIG_FOLDER, \u001b[38;5;124m'\u001b[39m\u001b[38;5;124mdefault.yaml\u001b[39m\u001b[38;5;124m'\u001b[39m))\n\u001b[0;32m----> 3\u001b[0m cfg_exp \u001b[38;5;241m=\u001b[39m OmegaConf\u001b[38;5;241m.\u001b[39mmerge(cfg_base, \u001b[43mOmegaConf\u001b[49m\u001b[38;5;241;43m.\u001b[39;49m\u001b[43mload\u001b[49m\u001b[43m(\u001b[49m\u001b[38;5;124;43m'\u001b[39;49m\u001b[38;5;124;43mconfigs/parallel_branches/config_h3d_stage1.yaml\u001b[39;49m\u001b[38;5;124;43m'\u001b[39;49m\u001b[43m)\u001b[49m)\n\u001b[1;32m      5\u001b[0m \u001b[38;5;66;03m# Load module configs if not full config\u001b[39;00m\n\u001b[1;32m      6\u001b[0m \u001b[38;5;28;01mif\u001b[39;00m \u001b[38;5;129;01mnot\u001b[39;00m cfg_exp\u001b[38;5;241m.\u001b[39mFULL_CONFIG:\n",
      "File \u001b[0;32m~/trial-week/MotionGPT/.venv/lib/python3.10/site-packages/omegaconf/omegaconf.py:189\u001b[0m, in \u001b[0;36mOmegaConf.load\u001b[0;34m(file_)\u001b[0m\n\u001b[1;32m    186\u001b[0m \u001b[38;5;28;01mfrom\u001b[39;00m\u001b[38;5;250m \u001b[39m\u001b[38;5;21;01m.\u001b[39;00m\u001b[38;5;21;01m_utils\u001b[39;00m\u001b[38;5;250m \u001b[39m\u001b[38;5;28;01mimport\u001b[39;00m get_yaml_loader\n\u001b[1;32m    188\u001b[0m \u001b[38;5;28;01mif\u001b[39;00m \u001b[38;5;28misinstance\u001b[39m(file_, (\u001b[38;5;28mstr\u001b[39m, pathlib\u001b[38;5;241m.\u001b[39mPath)):\n\u001b[0;32m--> 189\u001b[0m     \u001b[38;5;28;01mwith\u001b[39;00m \u001b[43mio\u001b[49m\u001b[38;5;241;43m.\u001b[39;49m\u001b[43mopen\u001b[49m\u001b[43m(\u001b[49m\u001b[43mos\u001b[49m\u001b[38;5;241;43m.\u001b[39;49m\u001b[43mpath\u001b[49m\u001b[38;5;241;43m.\u001b[39;49m\u001b[43mabspath\u001b[49m\u001b[43m(\u001b[49m\u001b[43mfile_\u001b[49m\u001b[43m)\u001b[49m\u001b[43m,\u001b[49m\u001b[43m \u001b[49m\u001b[38;5;124;43m\"\u001b[39;49m\u001b[38;5;124;43mr\u001b[39;49m\u001b[38;5;124;43m\"\u001b[39;49m\u001b[43m,\u001b[49m\u001b[43m \u001b[49m\u001b[43mencoding\u001b[49m\u001b[38;5;241;43m=\u001b[39;49m\u001b[38;5;124;43m\"\u001b[39;49m\u001b[38;5;124;43mutf-8\u001b[39;49m\u001b[38;5;124;43m\"\u001b[39;49m\u001b[43m)\u001b[49m \u001b[38;5;28;01mas\u001b[39;00m f:\n\u001b[1;32m    190\u001b[0m         obj \u001b[38;5;241m=\u001b[39m yaml\u001b[38;5;241m.\u001b[39mload(f, Loader\u001b[38;5;241m=\u001b[39mget_yaml_loader())\n\u001b[1;32m    191\u001b[0m \u001b[38;5;28;01melif\u001b[39;00m \u001b[38;5;28mgetattr\u001b[39m(file_, \u001b[38;5;124m\"\u001b[39m\u001b[38;5;124mread\u001b[39m\u001b[38;5;124m\"\u001b[39m, \u001b[38;5;28;01mNone\u001b[39;00m):\n",
      "\u001b[0;31mFileNotFoundError\u001b[0m: [Errno 2] No such file or directory: '/root/trial-week/MotionGPT/configs/parallel_branches/config_h3d_stage1.yaml'"
     ]
    }
   ],
   "source": [
    "cfg_assets = OmegaConf.load('./configs/assets.yaml')\n",
    "cfg_base = OmegaConf.load(os.path.join(cfg_assets.CONFIG_FOLDER, 'default.yaml'))\n",
    "cfg_exp = OmegaConf.merge(cfg_base, OmegaConf.load('configs/codebook_experiments/config_h3d_stage1.yaml'))\n",
    "\n",
    "# Load module configs if not full config\n",
    "if not cfg_exp.FULL_CONFIG:\n",
    "    print(\"Loading full config...\")\n",
    "    cfg_exp = get_module_config(cfg_exp, cfg_assets.CONFIG_FOLDER)\n",
    "\n",
    "# Merge with assets config which contains the dataset paths\n",
    "cfg = OmegaConf.merge(cfg_exp, cfg_assets)\n",
    "\n",
    "# Override some config values for testing\n",
    "cfg.TRAIN.BATCH_SIZE = 32\n",
    "cfg.TRAIN.NUM_WORKERS = 2\n",
    "cfg.DEBUG = False\n",
    "cfg.DEVICE = [0]"
   ]
  },
  {
   "cell_type": "code",
   "execution_count": 5,
   "metadata": {},
   "outputs": [
    {
     "name": "stdout",
     "output_type": "stream",
     "text": [
      "mGPT.data.HumanML3D HumanML3DDataModule\n",
      "Pointer Pointing at 0\n"
     ]
    },
    {
     "data": {
      "application/vnd.jupyter.widget-view+json": {
       "model_id": "ee1f34a4a22446cb942e88800f67e932",
       "version_major": 2,
       "version_minor": 0
      },
      "text/plain": [
       "Output()"
      ]
     },
     "metadata": {},
     "output_type": "display_data"
    },
    {
     "data": {
      "text/html": [
       "<pre style=\"white-space:pre;overflow-x:auto;line-height:normal;font-family:Menlo,'DejaVu Sans Mono',consolas,'Courier New',monospace\"></pre>\n"
      ],
      "text/plain": []
     },
     "metadata": {},
     "output_type": "display_data"
    },
    {
     "data": {
      "application/vnd.jupyter.widget-view+json": {
       "model_id": "348e228f71bd47229da83b368f1ff144",
       "version_major": 2,
       "version_minor": 0
      },
      "text/plain": [
       "Output()"
      ]
     },
     "metadata": {},
     "output_type": "display_data"
    },
    {
     "name": "stdout",
     "output_type": "stream",
     "text": [
      "Pointer Pointing at 0\n"
     ]
    },
    {
     "data": {
      "text/html": [
       "<pre style=\"white-space:pre;overflow-x:auto;line-height:normal;font-family:Menlo,'DejaVu Sans Mono',consolas,'Courier New',monospace\"></pre>\n"
      ],
      "text/plain": []
     },
     "metadata": {},
     "output_type": "display_data"
    },
    {
     "name": "stdout",
     "output_type": "stream",
     "text": [
      "Pointer Pointing at 0\n"
     ]
    }
   ],
   "source": [
    "\n",
    "# Initialize data and model\n",
    "datamodule = build_data(cfg)\n",
    "datamodule.setup('fit')  # Prepare the data"
   ]
  },
  {
   "cell_type": "code",
   "execution_count": 9,
   "metadata": {},
   "outputs": [],
   "source": [
    "# Load from checkpoint\n",
    "cfg.TRAIN.PRETRAINED = 'experiments/mgpt/Codebook_VQVAE_Usage_Rotation_trick_2_branches_300_epochs/checkpoints/last.ckpt'"
   ]
  },
  {
   "cell_type": "code",
   "execution_count": 10,
   "metadata": {},
   "outputs": [
    {
     "name": "stdout",
     "output_type": "stream",
     "text": [
      "num_branches: 1\n",
      "Applying rotation trick:  False\n",
      "Loading pretrained weights from:  experiments/mgpt/Codebook_VQVAE_Usage_Rotation_trick_2_branches_300_epochs/checkpoints/last.ckpt\n",
      "\n",
      "Original keys containing 'codebook':\n",
      "['vae.quantizer.codebook']\n",
      "\n",
      "Mapped keys containing 'codebook':\n",
      "['quantizer.codebook']\n"
     ]
    }
   ],
   "source": [
    "vqvae = VQVae(\n",
    "    nfeats=263,\n",
    "    code_num=512,\n",
    "    code_dim=512,\n",
    "    output_emb_width=512,\n",
    "    down_t=2,\n",
    "    stride_t=2,\n",
    "    width=512,\n",
    "    depth=3,\n",
    "    dilation_growth_rate=3,\n",
    "    activation='relu'\n",
    ")\n",
    "\n",
    "# Load pretrained weights with proper key matching\n",
    "# Load pretrained weights with proper key matching\n",
    "if cfg.TRAIN.PRETRAINED:\n",
    "    print(\"Loading pretrained weights from: \", cfg.TRAIN.PRETRAINED)\n",
    "    state_dict = torch.load(cfg.TRAIN.PRETRAINED, map_location='cpu')['state_dict']\n",
    "    \n",
    "    # Debug: Print original keys\n",
    "    print(\"\\nOriginal keys containing 'codebook':\")\n",
    "    codebook_keys = [k for k in state_dict.keys() if 'codebook' in k]\n",
    "    print(codebook_keys)\n",
    "    \n",
    "    # Create a new state dict with correct keys\n",
    "    new_state_dict = {}\n",
    "    for k, v in state_dict.items():\n",
    "        # Handle both 'motion_vae.' and 'vae.' prefixes\n",
    "        if k.startswith('motion_vae.'):\n",
    "            new_key = k.replace('motion_vae.', '')\n",
    "            new_state_dict[new_key] = v\n",
    "        elif k.startswith('vae.'):\n",
    "            new_key = k.replace('vae.', '')\n",
    "            new_state_dict[new_key] = v\n",
    "    \n",
    "    # Debug: Print new keys\n",
    "    print(\"\\nMapped keys containing 'codebook':\")\n",
    "    new_codebook_keys = [k for k in new_state_dict.keys() if 'codebook' in k]\n",
    "    print(new_codebook_keys)\n",
    "    \n",
    "    # Try loading with strict=False first to see what matches\n",
    "    incompatible_keys = vqvae.load_state_dict(new_state_dict, strict=False)\n",
    "    vqvae.to('cuda')\n",
    "    vqvae.training = False\n",
    "    vqvae.quantizer.training = False"
   ]
  },
  {
   "cell_type": "code",
   "execution_count": 8,
   "metadata": {},
   "outputs": [
    {
     "data": {
      "text/plain": [
       "42159479"
      ]
     },
     "execution_count": 8,
     "metadata": {},
     "output_type": "execute_result"
    }
   ],
   "source": [
    "sum(p.numel() for p in vqvae.parameters())"
   ]
  },
  {
   "cell_type": "code",
   "execution_count": 8,
   "metadata": {},
   "outputs": [],
   "source": [
    "\n",
    "# Get a small subset of data\n",
    "train_loader = datamodule.train_dataloader()\n",
    "eval_batch = next(iter(train_loader))  # Get just one batch\n",
    "eval_batch['motion'] = eval_batch['motion'].to('cuda')"
   ]
  },
  {
   "cell_type": "code",
   "execution_count": null,
   "metadata": {},
   "outputs": [],
   "source": [
    "vqvae(eval_batch['motion'])"
   ]
  },
  {
   "cell_type": "code",
   "execution_count": 11,
   "metadata": {},
   "outputs": [],
   "source": [
    "seen_tokens = set()"
   ]
  },
  {
   "cell_type": "code",
   "execution_count": null,
   "metadata": {},
   "outputs": [],
   "source": [
    "with torch.no_grad():\n",
    "    batches = 0\n",
    "    for batch in train_loader:\n",
    "        batches += 1\n",
    "        codes, _ = vqvae.encode(batch['motion'].to('cuda'))\n",
    "        seen_tokens.update(codes.flatten().cpu().numpy())\n",
    "        # codes = vqvae(batch['motion'].to('cuda'))\n",
    "print(batches)\n",
    "print(len(seen_tokens)/512*100)"
   ]
  },
  {
   "cell_type": "code",
   "execution_count": 13,
   "metadata": {},
   "outputs": [],
   "source": [
    "# \n",
    "with torch.no_grad():\n",
    "    for batch in train_loader:\n",
    "        x_r, loss, perplexity = vqvae(batch['motion'].to('cuda'))"
   ]
  },
  {
   "cell_type": "code",
   "execution_count": null,
   "metadata": {},
   "outputs": [],
   "source": [
    "vqvae.quantizer.get_token_usage_stats()"
   ]
  },
  {
   "cell_type": "code",
   "execution_count": null,
   "metadata": {},
   "outputs": [],
   "source": [
    "print(len(seen_tokens))"
   ]
  },
  {
   "cell_type": "code",
   "execution_count": 57,
   "metadata": {},
   "outputs": [],
   "source": [
    "stats = vqvae.quantizer.get_token_usage_stats()"
   ]
  },
  {
   "cell_type": "code",
   "execution_count": null,
   "metadata": {},
   "outputs": [],
   "source": [
    "freqs = stats['val/token_frequencies'].cpu().numpy()\n",
    "\n",
    "threshold = 600\n",
    "mean_freq = np.mean(freqs)\n",
    "freqs = freqs[freqs > threshold]\n",
    "\n",
    "print(\"mean freq: \", mean_freq)\n",
    "print(f\"Usage percentage: {(len(freqs) / 512)*100: .2f}%\")\n",
    "\n",
    "plt.figure(figsize=(15, 5))\n",
    "plt.bar(range(len(freqs)), freqs[freqs > threshold])\n",
    "plt.title('Codebook Usage Distribution')\n",
    "plt.xlabel('Codebook Index (sorted by usage)')\n",
    "plt.ylabel('Usage Count')\n",
    "plt.show()\n"
   ]
  },
  {
   "cell_type": "code",
   "execution_count": null,
   "metadata": {},
   "outputs": [],
   "source": [
    "# Function to analyze codebook usage\n",
    "\n",
    "with torch.no_grad():\n",
    "    # Forward pass\n",
    "    print(\"Input shape: \", eval_batch['motion'].shape)\n",
    "    x_out, loss, perplexity = vqvae(eval_batch['motion'])\n"
   ]
  },
  {
   "cell_type": "code",
   "execution_count": null,
   "metadata": {},
   "outputs": [],
   "source": [
    "perplexity"
   ]
  }
 ],
 "metadata": {
  "kernelspec": {
   "display_name": ".venv",
   "language": "python",
   "name": "python3"
  },
  "language_info": {
   "codemirror_mode": {
    "name": "ipython",
    "version": 3
   },
   "file_extension": ".py",
   "mimetype": "text/x-python",
   "name": "python",
   "nbconvert_exporter": "python",
   "pygments_lexer": "ipython3",
   "version": "3.10.16"
  }
 },
 "nbformat": 4,
 "nbformat_minor": 2
}
