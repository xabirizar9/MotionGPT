{
 "cells": [
  {
   "cell_type": "code",
   "execution_count": 1,
   "metadata": {},
   "outputs": [],
   "source": [
    "%load_ext autoreload\n",
    "%autoreload 2\n",
    "import matplotlib.pyplot as plt\n",
    "import numpy as np\n",
    "import os\n",
    "import pandas as pd\n",
    "import torch\n",
    "\n",
    "from collections import Counter\n",
    "from tqdm.auto import tqdm\n",
    "\n",
    "# Import your data loading utilities and model\n",
    "from mGPT.data.build_data import build_data\n",
    "from mGPT.models.build_model import build_model\n",
    "from mGPT.archs.mgpt_vq import VQVae\n",
    "from mGPT.config import get_module_config\n",
    "from omegaconf import OmegaConf"
   ]
  },
  {
   "cell_type": "markdown",
   "metadata": {},
   "source": [
    "### Load configs"
   ]
  },
  {
   "cell_type": "code",
   "execution_count": 2,
   "metadata": {},
   "outputs": [],
   "source": [
    "# Load config files in the same way as parse_args()\n",
    "OmegaConf.register_new_resolver(\"eval\", eval)"
   ]
  },
  {
   "cell_type": "code",
   "execution_count": 3,
   "metadata": {},
   "outputs": [
    {
     "name": "stdout",
     "output_type": "stream",
     "text": [
      "Loading full config...\n"
     ]
    }
   ],
   "source": [
    "cfg_assets = OmegaConf.load('./configs/assets.yaml')\n",
    "cfg_base = OmegaConf.load(os.path.join(cfg_assets.CONFIG_FOLDER, 'default.yaml'))\n",
    "cfg_exp = OmegaConf.merge(cfg_base, OmegaConf.load('configs/codebook_experiments/config_h3d_stage1.yaml'))\n",
    "\n",
    "# Load module configs if not full config\n",
    "if not cfg_exp.FULL_CONFIG:\n",
    "    print(\"Loading full config...\")\n",
    "    cfg_exp = get_module_config(cfg_exp, cfg_assets.CONFIG_FOLDER)\n",
    "\n",
    "# Merge with assets config which contains the dataset paths\n",
    "cfg = OmegaConf.merge(cfg_exp, cfg_assets)\n",
    "\n",
    "# Override some config values for testing\n",
    "cfg.TRAIN.BATCH_SIZE = 32\n",
    "cfg.TRAIN.NUM_WORKERS = 2\n",
    "cfg.DEBUG = False\n",
    "cfg.DEVICE = [0]"
   ]
  },
  {
   "cell_type": "code",
   "execution_count": 4,
   "metadata": {},
   "outputs": [],
   "source": [
    "# Load from checkpoint\n",
    "cfg.TRAIN.PRETRAINED = 'experiments/mgpt/Codebook_VQVAE_Usage/checkpoints/epoch=29.ckpt'"
   ]
  },
  {
   "cell_type": "code",
   "execution_count": 5,
   "metadata": {},
   "outputs": [
    {
     "name": "stdout",
     "output_type": "stream",
     "text": [
      "Pointer Pointing at 0\n"
     ]
    },
    {
     "data": {
      "application/vnd.jupyter.widget-view+json": {
       "model_id": "f4003798b95846d983a2ec8420cbf101",
       "version_major": 2,
       "version_minor": 0
      },
      "text/plain": [
       "Output()"
      ]
     },
     "metadata": {},
     "output_type": "display_data"
    },
    {
     "data": {
      "text/html": [
       "<pre style=\"white-space:pre;overflow-x:auto;line-height:normal;font-family:Menlo,'DejaVu Sans Mono',consolas,'Courier New',monospace\"></pre>\n"
      ],
      "text/plain": []
     },
     "metadata": {},
     "output_type": "display_data"
    },
    {
     "data": {
      "application/vnd.jupyter.widget-view+json": {
       "model_id": "6b6e7d4e58bb446b8c33fd3185f9612d",
       "version_major": 2,
       "version_minor": 0
      },
      "text/plain": [
       "Output()"
      ]
     },
     "metadata": {},
     "output_type": "display_data"
    },
    {
     "name": "stdout",
     "output_type": "stream",
     "text": [
      "Pointer Pointing at 0\n"
     ]
    },
    {
     "data": {
      "text/html": [
       "<pre style=\"white-space:pre;overflow-x:auto;line-height:normal;font-family:Menlo,'DejaVu Sans Mono',consolas,'Courier New',monospace\"></pre>\n"
      ],
      "text/plain": []
     },
     "metadata": {},
     "output_type": "display_data"
    },
    {
     "name": "stdout",
     "output_type": "stream",
     "text": [
      "Pointer Pointing at 0\n"
     ]
    }
   ],
   "source": [
    "\n",
    "# Initialize data and model\n",
    "datamodule = build_data(cfg)\n",
    "datamodule.setup('fit')  # Prepare the data"
   ]
  },
  {
   "cell_type": "code",
   "execution_count": 6,
   "metadata": {},
   "outputs": [
    {
     "name": "stdout",
     "output_type": "stream",
     "text": [
      "Loading pretrained weights from:  experiments/mgpt/Codebook_VQVAE_Usage/checkpoints/epoch=29.ckpt\n",
      "\n",
      "Original keys containing 'codebook':\n",
      "['vae.quantizer.codebook']\n",
      "\n",
      "Mapped keys containing 'codebook':\n",
      "['quantizer.codebook']\n"
     ]
    }
   ],
   "source": [
    "vqvae = VQVae(\n",
    "    nfeats=263,\n",
    "    code_num=512,\n",
    "    code_dim=512,\n",
    "    output_emb_width=512,\n",
    "    down_t=2,\n",
    "    stride_t=2,\n",
    "    width=512,\n",
    "    depth=3,\n",
    "    dilation_growth_rate=3,\n",
    "    activation='relu'\n",
    ")\n",
    "\n",
    "# Load pretrained weights with proper key matching\n",
    "# Load pretrained weights with proper key matching\n",
    "if cfg.TRAIN.PRETRAINED:\n",
    "    print(\"Loading pretrained weights from: \", cfg.TRAIN.PRETRAINED)\n",
    "    state_dict = torch.load(cfg.TRAIN.PRETRAINED, map_location='cpu')['state_dict']\n",
    "    \n",
    "    # Debug: Print original keys\n",
    "    print(\"\\nOriginal keys containing 'codebook':\")\n",
    "    codebook_keys = [k for k in state_dict.keys() if 'codebook' in k]\n",
    "    print(codebook_keys)\n",
    "    \n",
    "    # Create a new state dict with correct keys\n",
    "    new_state_dict = {}\n",
    "    for k, v in state_dict.items():\n",
    "        # Handle both 'motion_vae.' and 'vae.' prefixes\n",
    "        if k.startswith('motion_vae.'):\n",
    "            new_key = k.replace('motion_vae.', '')\n",
    "            new_state_dict[new_key] = v\n",
    "        elif k.startswith('vae.'):\n",
    "            new_key = k.replace('vae.', '')\n",
    "            new_state_dict[new_key] = v\n",
    "    \n",
    "    # Debug: Print new keys\n",
    "    print(\"\\nMapped keys containing 'codebook':\")\n",
    "    new_codebook_keys = [k for k in new_state_dict.keys() if 'codebook' in k]\n",
    "    print(new_codebook_keys)\n",
    "    \n",
    "    # Try loading with strict=False first to see what matches\n",
    "    incompatible_keys = vqvae.load_state_dict(new_state_dict, strict=False)\n",
    "    vqvae.to('cuda')\n",
    "    vqvae.training = False\n",
    "    vqvae.quantizer.training = False"
   ]
  },
  {
   "cell_type": "code",
   "execution_count": 7,
   "metadata": {},
   "outputs": [],
   "source": [
    "\n",
    "# Get a small subset of data\n",
    "train_loader = datamodule.train_dataloader()\n",
    "eval_batch = next(iter(train_loader))  # Get just one batch\n",
    "eval_batch['motion'] = eval_batch['motion'].to('cuda')"
   ]
  },
  {
   "cell_type": "code",
   "execution_count": 8,
   "metadata": {},
   "outputs": [],
   "source": [
    "seen_tokens = set()"
   ]
  },
  {
   "cell_type": "code",
   "execution_count": 9,
   "metadata": {},
   "outputs": [
    {
     "name": "stdout",
     "output_type": "stream",
     "text": [
      "628\n",
      "69.921875\n"
     ]
    }
   ],
   "source": [
    "with torch.no_grad():\n",
    "    batches = 0\n",
    "    for batch in train_loader:\n",
    "        batches += 1\n",
    "        codes, _ = vqvae.encode(batch['motion'].to('cuda'))\n",
    "        seen_tokens.update(codes.flatten().cpu().numpy())\n",
    "        # codes = vqvae(batch['motion'].to('cuda'))\n",
    "print(batches)\n",
    "print(len(seen_tokens)/512*100)"
   ]
  },
  {
   "cell_type": "code",
   "execution_count": 16,
   "metadata": {},
   "outputs": [],
   "source": [
    "# \n",
    "with torch.no_grad():\n",
    "    for batch in train_loader:\n",
    "        x_r, loss, perplexity = vqvae(batch['motion'].to('cuda'))"
   ]
  },
  {
   "cell_type": "code",
   "execution_count": 17,
   "metadata": {},
   "outputs": [
    {
     "data": {
      "text/plain": [
       "{'val/unique_tokens': 358,\n",
       " 'val/total_tokens': 321104,\n",
       " 'val/codebook_usage_percent': 69.921875}"
      ]
     },
     "execution_count": 17,
     "metadata": {},
     "output_type": "execute_result"
    }
   ],
   "source": [
    "vqvae.quantizer.get_token_usage_stats()"
   ]
  },
  {
   "cell_type": "code",
   "execution_count": null,
   "metadata": {},
   "outputs": [],
   "source": [
    "print(len(seen_tokens))"
   ]
  },
  {
   "cell_type": "code",
   "execution_count": 37,
   "metadata": {},
   "outputs": [],
   "source": [
    "stats = vqvae.quantizer.get_token_usage_stats()\n"
   ]
  },
  {
   "cell_type": "code",
   "execution_count": null,
   "metadata": {},
   "outputs": [],
   "source": [
    "freqs = stats['val/token_frequencies'].cpu().numpy()\n",
    "\n",
    "threshold = 600\n",
    "mean_freq = np.mean(freqs)\n",
    "freqs = freqs[freqs > threshold]\n",
    "\n",
    "print(\"mean freq: \", mean_freq)\n",
    "print(f\"Usage percentage: {(len(freqs) / 512)*100: .2f}%\")\n",
    "\n",
    "plt.figure(figsize=(15, 5))\n",
    "plt.bar(range(len(freqs)), freqs[freqs > threshold])\n",
    "plt.title('Codebook Usage Distribution')\n",
    "plt.xlabel('Codebook Index (sorted by usage)')\n",
    "plt.ylabel('Usage Count')\n",
    "plt.show()\n"
   ]
  },
  {
   "cell_type": "code",
   "execution_count": null,
   "metadata": {},
   "outputs": [],
   "source": [
    "# Function to analyze codebook usage\n",
    "\n",
    "with torch.no_grad():\n",
    "    # Forward pass\n",
    "    print(\"Input shape: \", eval_batch['motion'].shape)\n",
    "    x_out, loss, perplexity = vqvae(eval_batch['motion'])\n"
   ]
  },
  {
   "cell_type": "code",
   "execution_count": null,
   "metadata": {},
   "outputs": [],
   "source": [
    "perplexity"
   ]
  }
 ],
 "metadata": {
  "kernelspec": {
   "display_name": ".venv",
   "language": "python",
   "name": "python3"
  },
  "language_info": {
   "codemirror_mode": {
    "name": "ipython",
    "version": 3
   },
   "file_extension": ".py",
   "mimetype": "text/x-python",
   "name": "python",
   "nbconvert_exporter": "python",
   "pygments_lexer": "ipython3",
   "version": "3.10.16"
  }
 },
 "nbformat": 4,
 "nbformat_minor": 2
}
